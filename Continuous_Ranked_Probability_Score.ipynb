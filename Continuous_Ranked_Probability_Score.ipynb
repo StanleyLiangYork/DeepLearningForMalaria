{
  "nbformat": 4,
  "nbformat_minor": 0,
  "metadata": {
    "colab": {
      "name": "Continuous_Ranked_Probability_Score.ipynb",
      "provenance": [],
      "authorship_tag": "ABX9TyOyOfUcgF3RT+Liufvmz9rN",
      "include_colab_link": true
    },
    "kernelspec": {
      "name": "python3",
      "display_name": "Python 3"
    }
  },
  "cells": [
    {
      "cell_type": "markdown",
      "metadata": {
        "id": "view-in-github",
        "colab_type": "text"
      },
      "source": [
        "<a href=\"https://colab.research.google.com/github/StanleyLiangYork/DeepLearningForMalaria/blob/master/Continuous_Ranked_Probability_Score.ipynb\" target=\"_parent\"><img src=\"https://colab.research.google.com/assets/colab-badge.svg\" alt=\"Open In Colab\"/></a>"
      ]
    },
    {
      "cell_type": "code",
      "metadata": {
        "id": "KZ_EgNyhbtyq",
        "colab_type": "code",
        "colab": {}
      },
      "source": [
        "import math\n",
        "import os.path"
      ],
      "execution_count": 0,
      "outputs": []
    },
    {
      "cell_type": "markdown",
      "metadata": {
        "id": "6MeuXyjElwDq",
        "colab_type": "text"
      },
      "source": [
        "Given a deterministic observation t, make a CDF(Cumulative distribution function) out of it"
      ]
    },
    {
      "cell_type": "code",
      "metadata": {
        "id": "ZJ7fNfSIb1q_",
        "colab_type": "code",
        "colab": {}
      },
      "source": [
        "def heavyside(thresholds, actual):\n",
        "    result = [1 if t >= actual else 0 for t in thresholds]\n",
        "    return result"
      ],
      "execution_count": 0,
      "outputs": []
    },
    {
      "cell_type": "markdown",
      "metadata": {
        "id": "zAvwqKbjmZMf",
        "colab_type": "text"
      },
      "source": [
        "Check annd make sure all probabilities are in [0,1] and the CDF should be non-decreasing?"
      ]
    },
    {
      "cell_type": "code",
      "metadata": {
        "id": "nsMmXEYcmTF9",
        "colab_type": "code",
        "colab": {}
      },
      "source": [
        "def is_cdf_valid(case):\n",
        "  if case[0] < 0 or case[0] > 1:\n",
        "    return False\n",
        "\n",
        "  for i in range(1, len(case)):\n",
        "    if case[i] > 1 or case[i] < case[i-1]:\n",
        "      return False\n",
        "    \n",
        "  return True"
      ],
      "execution_count": 0,
      "outputs": []
    },
    {
      "cell_type": "markdown",
      "metadata": {
        "id": "S_K1aJ2vOKZb",
        "colab_type": "text"
      },
      "source": [
        "Calculates the Continuous Ranked Probability Score given:</p>\n",
        "\n",
        "\n",
        "*   thresholds: a vector of threshold values\n",
        "*   predictions: 2d array rows of [predictions P(y <= t) for each threshold]\n",
        "*   actuals: a vector of real observations\n"
      ]
    },
    {
      "cell_type": "code",
      "metadata": {
        "id": "eS8Lj1dnPSYd",
        "colab_type": "code",
        "colab": {}
      },
      "source": [
        "def calc_crps(thresholds, predictions, actuals):\n",
        "  nthresh = len(thresholds)\n",
        "  ncases  = len(predictions)\n",
        "  crps = 0\n",
        "\n",
        "  for case, actual in zip(predictions, actuals):\n",
        "    if (len(case) == nthresh) and is_cdf_valid(case):\n",
        "      obscdf = heavyside(thresholds, actual)\n",
        "      for fprob, oprob in zip(case, obscdf):\n",
        "        crps = crps + (fprob - oprob)*(fprob - oprob)\n",
        "    else:\n",
        "      crps = crps + nthresh  # treat delta at each threshold as 1\n",
        "  \n",
        "  crps = crps / float(ncases * nthresh)\n",
        "  return crps\n"
      ],
      "execution_count": 0,
      "outputs": []
    },
    {
      "cell_type": "markdown",
      "metadata": {
        "id": "vd1H8Ea_QqAY",
        "colab_type": "text"
      },
      "source": [
        "Test the function"
      ]
    },
    {
      "cell_type": "code",
      "metadata": {
        "id": "3DNDW6ToQWpK",
        "colab_type": "code",
        "colab": {}
      },
      "source": [
        "thresholds = [2., 4., 6., 8., 10.]\n",
        "actuals = [3., 1.5, 7., 4.]"
      ],
      "execution_count": 0,
      "outputs": []
    },
    {
      "cell_type": "markdown",
      "metadata": {
        "id": "50jUdngCSYFB",
        "colab_type": "text"
      },
      "source": [
        "loop through the observation values, if threshold is greater, return 1, if not return 0 "
      ]
    },
    {
      "cell_type": "code",
      "metadata": {
        "id": "qO-13SttQ3z4",
        "colab_type": "code",
        "colab": {
          "base_uri": "https://localhost:8080/",
          "height": 35
        },
        "outputId": "f09537ad-3c3b-478b-a33d-957ad03a4f89"
      },
      "source": [
        "pred = [heavyside(thresholds, actual)  for actual in actuals]\n",
        "print(pred)"
      ],
      "execution_count": 16,
      "outputs": [
        {
          "output_type": "stream",
          "text": [
            "[[0, 1, 1, 1, 1], [1, 1, 1, 1, 1], [0, 0, 0, 1, 1], [0, 1, 1, 1, 1]]\n"
          ],
          "name": "stdout"
        }
      ]
    },
    {
      "cell_type": "code",
      "metadata": {
        "id": "IfBa9gLLR6bE",
        "colab_type": "code",
        "colab": {
          "base_uri": "https://localhost:8080/",
          "height": 35
        },
        "outputId": "77628094-f79d-422d-ddaf-02f1cebc4b3e"
      },
      "source": [
        "crps = calc_crps(thresholds, pred, actuals)\n",
        "print(\"Exact answer = {0}\".format(crps))"
      ],
      "execution_count": 21,
      "outputs": [
        {
          "output_type": "stream",
          "text": [
            "Exact answer = 0.0\n"
          ],
          "name": "stdout"
        }
      ]
    },
    {
      "cell_type": "code",
      "metadata": {
        "id": "5x2VagKnT8Rv",
        "colab_type": "code",
        "colab": {
          "base_uri": "https://localhost:8080/",
          "height": 52
        },
        "outputId": "299c8725-2b65-4a86-c63e-d52f754a6418"
      },
      "source": [
        "thresholds = [2., 4., 6., 8., 10.]\n",
        "actuals = [3., 1.5, 7., 4.]\n",
        "pred = [heavyside(thresholds, actual)  for actual in actuals]\n",
        "pred[1] = [0, 0.3, 0.5, 1.0]\n",
        "print(pred)\n",
        "crps = calc_crps(thresholds, pred, actuals)\n",
        "print(\"Invalid length for one case: answer = {0}\".format(crps))"
      ],
      "execution_count": 24,
      "outputs": [
        {
          "output_type": "stream",
          "text": [
            "[[0, 1, 1, 1, 1], [0, 0.3, 0.5, 1.0], [0, 0, 0, 1, 1], [0, 1, 1, 1, 1]]\n",
            "Invalid length for one case: answer = 0.25\n"
          ],
          "name": "stdout"
        }
      ]
    },
    {
      "cell_type": "code",
      "metadata": {
        "id": "9cEAjkQRViKH",
        "colab_type": "code",
        "colab": {
          "base_uri": "https://localhost:8080/",
          "height": 52
        },
        "outputId": "9b801d2b-4ef6-45d8-936c-cd8755bf5c8d"
      },
      "source": [
        "thresholds = [2., 4., 6., 8., 10.]\n",
        "actuals = [3., 1.5, 7., 4.]\n",
        "pred = [heavyside(thresholds, actual)  for actual in actuals]\n",
        "pred[1] = [0, 0.5, 0.3, 0.8, 1.0] # not a valid CDF, the correct one [0, 0.3, 0.5, 0.8, 1.0]\n",
        "print(pred)\n",
        "crps = calc_crps(thresholds, pred, actuals)\n",
        "print(\"Invalid CDF for one case: answer = {0}\".format(crps))"
      ],
      "execution_count": 25,
      "outputs": [
        {
          "output_type": "stream",
          "text": [
            "[[0, 1, 1, 1, 1], [0, 0.5, 0.3, 0.8, 1.0], [0, 0, 0, 1, 1], [0, 1, 1, 1, 1]]\n",
            "Invalid CDF for one case: answer = 0.25\n"
          ],
          "name": "stdout"
        }
      ]
    },
    {
      "cell_type": "code",
      "metadata": {
        "id": "nPQHQmikWUgg",
        "colab_type": "code",
        "colab": {
          "base_uri": "https://localhost:8080/",
          "height": 52
        },
        "outputId": "11e3e713-7804-443d-8882-d493aa6d0e32"
      },
      "source": [
        "pred = [ [0.]*len(thresholds)  for actual in actuals]  \n",
        "print(pred)\n",
        "crps = calc_crps(thresholds, pred, actuals)\n",
        "print(\"All zero predictions: answer = {0}\".format(crps))\n",
        "# all zero for actual=3 is wrong for thresholds 4,6,8,10 i.e. 4 thresholds"
      ],
      "execution_count": 27,
      "outputs": [
        {
          "output_type": "stream",
          "text": [
            "[[0.0, 0.0, 0.0, 0.0, 0.0], [0.0, 0.0, 0.0, 0.0, 0.0], [0.0, 0.0, 0.0, 0.0, 0.0], [0.0, 0.0, 0.0, 0.0, 0.0]]\n",
            "All zero predictions: answer = 0.75\n"
          ],
          "name": "stdout"
        }
      ]
    },
    {
      "cell_type": "code",
      "metadata": {
        "id": "StvtlBg5Xe_f",
        "colab_type": "code",
        "colab": {
          "base_uri": "https://localhost:8080/",
          "height": 52
        },
        "outputId": "f339733c-2c0e-4cf1-88b5-2cff2abde164"
      },
      "source": [
        "pred = [ [1.]*len(thresholds)  for actual in actuals]  \n",
        "print(pred)\n",
        "crps = calc_crps(thresholds, pred, actuals)\n",
        "print(\"All one predictions: answer = {0}\".format(crps))"
      ],
      "execution_count": 29,
      "outputs": [
        {
          "output_type": "stream",
          "text": [
            "[[1.0, 1.0, 1.0, 1.0, 1.0], [1.0, 1.0, 1.0, 1.0, 1.0], [1.0, 1.0, 1.0, 1.0, 1.0], [1.0, 1.0, 1.0, 1.0, 1.0]]\n",
            "All one predictions: answer = 0.25\n"
          ],
          "name": "stdout"
        }
      ]
    },
    {
      "cell_type": "code",
      "metadata": {
        "id": "gsst0RaZYPvy",
        "colab_type": "code",
        "colab": {}
      },
      "source": [
        "def sigmoid(num, center):\n",
        "  length = num\n",
        "  return [ 1/(1 + math.exp(-(x-center))) for x in range(0,length) ]"
      ],
      "execution_count": 0,
      "outputs": []
    },
    {
      "cell_type": "code",
      "metadata": {
        "id": "9CeaQ4vLYjKK",
        "colab_type": "code",
        "colab": {
          "base_uri": "https://localhost:8080/",
          "height": 35
        },
        "outputId": "2cb347f9-215a-4fb6-8c29-740d8554e411"
      },
      "source": [
        "thresholds = [2., 4., 6., 8., 10.]\n",
        "actuals = [3., 1.5, 7., 4.]\n",
        "pred = [ sigmoid(5, actual)  for actual in actuals] \n",
        "crps = calc_crps(thresholds, pred, actuals)\n",
        "print(\"Sigmoids: answer = {0}\".format(crps))"
      ],
      "execution_count": 40,
      "outputs": [
        {
          "output_type": "stream",
          "text": [
            "Sigmoids: answer = 0.3606027186161378\n"
          ],
          "name": "stdout"
        }
      ]
    }
  ]
}